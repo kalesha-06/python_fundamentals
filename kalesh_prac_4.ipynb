{
 "cells": [
  {
   "cell_type": "code",
   "execution_count": 1,
   "metadata": {},
   "outputs": [],
   "source": [
    "frds=['kalesha','raju','uday','gopi']"
   ]
  },
  {
   "cell_type": "code",
   "execution_count": 2,
   "metadata": {},
   "outputs": [
    {
     "name": "stdout",
     "output_type": "stream",
     "text": [
      "['kalesha', 'raju', 'uday', 'gopi']\n"
     ]
    }
   ],
   "source": [
    "print(frds)"
   ]
  },
  {
   "cell_type": "code",
   "execution_count": 3,
   "metadata": {},
   "outputs": [],
   "source": [
    "frds.append('sri')"
   ]
  },
  {
   "cell_type": "code",
   "execution_count": 4,
   "metadata": {},
   "outputs": [
    {
     "name": "stdout",
     "output_type": "stream",
     "text": [
      "['kalesha', 'raju', 'uday', 'gopi', 'sri']\n"
     ]
    }
   ],
   "source": [
    "print(frds)"
   ]
  },
  {
   "cell_type": "code",
   "execution_count": 5,
   "metadata": {},
   "outputs": [],
   "source": [
    "frds.insert(3,'karthik')"
   ]
  },
  {
   "cell_type": "code",
   "execution_count": 6,
   "metadata": {},
   "outputs": [
    {
     "name": "stdout",
     "output_type": "stream",
     "text": [
      "['kalesha', 'raju', 'uday', 'karthik', 'gopi', 'sri']\n"
     ]
    }
   ],
   "source": [
    "print(frds)"
   ]
  },
  {
   "cell_type": "code",
   "execution_count": 7,
   "metadata": {},
   "outputs": [],
   "source": [
    "frds.append('suman')"
   ]
  },
  {
   "cell_type": "code",
   "execution_count": 8,
   "metadata": {},
   "outputs": [
    {
     "name": "stdout",
     "output_type": "stream",
     "text": [
      "['kalesha', 'raju', 'uday', 'karthik', 'gopi', 'sri', 'suman']\n"
     ]
    }
   ],
   "source": [
    "print(frds)"
   ]
  },
  {
   "cell_type": "code",
   "execution_count": 9,
   "metadata": {},
   "outputs": [
    {
     "name": "stdout",
     "output_type": "stream",
     "text": [
      "['kalesha', 'raju', 'uday']\n"
     ]
    }
   ],
   "source": [
    "print(frds[0:3])"
   ]
  },
  {
   "cell_type": "code",
   "execution_count": 11,
   "metadata": {},
   "outputs": [
    {
     "name": "stdout",
     "output_type": "stream",
     "text": [
      "['uday', 'karthik', 'gopi']\n"
     ]
    }
   ],
   "source": [
    "print(frds[2:5])"
   ]
  },
  {
   "cell_type": "code",
   "execution_count": 12,
   "metadata": {},
   "outputs": [
    {
     "name": "stdout",
     "output_type": "stream",
     "text": [
      "['kalesha', 'uday', 'gopi', 'suman']\n"
     ]
    }
   ],
   "source": [
    "print(frds[0:7:2])"
   ]
  },
  {
   "cell_type": "code",
   "execution_count": 13,
   "metadata": {},
   "outputs": [
    {
     "name": "stdout",
     "output_type": "stream",
     "text": [
      "['raju', 'karthik', 'sri']\n"
     ]
    }
   ],
   "source": [
    "print(frds[1:7:2])"
   ]
  },
  {
   "cell_type": "code",
   "execution_count": null,
   "metadata": {},
   "outputs": [],
   "source": []
  },
  {
   "cell_type": "code",
   "execution_count": null,
   "metadata": {},
   "outputs": [],
   "source": [
    "#loops"
   ]
  },
  {
   "cell_type": "code",
   "execution_count": 14,
   "metadata": {},
   "outputs": [
    {
     "name": "stdout",
     "output_type": "stream",
     "text": [
      "\n",
      " Kalesha,my school friends\n",
      "\n",
      " Raju,my school friends\n",
      "\n",
      " Uday,my school friends\n",
      "\n",
      " Karthik,my school friends\n",
      "\n",
      " Gopi,my school friends\n",
      "\n",
      " Sri,my school friends\n",
      "\n",
      " Suman,my school friends\n"
     ]
    }
   ],
   "source": [
    "for sk in frds:\n",
    "    print(f\"\\n {sk.title()},my school friends\")"
   ]
  },
  {
   "cell_type": "code",
   "execution_count": 15,
   "metadata": {},
   "outputs": [
    {
     "name": "stdout",
     "output_type": "stream",
     "text": [
      "\n",
      " Kalesha,my school friends\n",
      "we are still good friends\n",
      "\n",
      " Raju,my school friends\n",
      "we are still good friends\n",
      "\n",
      " Uday,my school friends\n",
      "we are still good friends\n",
      "\n",
      " Karthik,my school friends\n",
      "we are still good friends\n",
      "\n",
      " Gopi,my school friends\n",
      "we are still good friends\n",
      "\n",
      " Sri,my school friends\n",
      "we are still good friends\n",
      "\n",
      " Suman,my school friends\n",
      "we are still good friends\n"
     ]
    }
   ],
   "source": [
    "for sk in frds:\n",
    "    print(f\"\\n {sk.title()},my school friends\")\n",
    "    print (f\"we are still good friends\")"
   ]
  },
  {
   "cell_type": "code",
   "execution_count": null,
   "metadata": {},
   "outputs": [],
   "source": [
    "\n",
    "#if loop"
   ]
  },
  {
   "cell_type": "code",
   "execution_count": 20,
   "metadata": {},
   "outputs": [],
   "source": [
    "age=16"
   ]
  },
  {
   "cell_type": "code",
   "execution_count": 17,
   "metadata": {},
   "outputs": [
    {
     "name": "stdout",
     "output_type": "stream",
     "text": [
      "welcome ,you are eligible for voting\n"
     ]
    }
   ],
   "source": [
    "if age>18:\n",
    "    print ('welcome ,you are eligible for voting')"
   ]
  },
  {
   "cell_type": "code",
   "execution_count": 21,
   "metadata": {},
   "outputs": [
    {
     "name": "stdout",
     "output_type": "stream",
     "text": [
      "try next year\n"
     ]
    }
   ],
   "source": [
    "if age>=18:\n",
    "    print ('welcome ,you are eligible for voting')\n",
    "else :\n",
    "    print('try next year')"
   ]
  },
  {
   "cell_type": "code",
   "execution_count": 25,
   "metadata": {},
   "outputs": [],
   "source": [
    "age=4"
   ]
  },
  {
   "cell_type": "code",
   "execution_count": 24,
   "metadata": {},
   "outputs": [
    {
     "name": "stdout",
     "output_type": "stream",
     "text": [
      "the baby can talk\n"
     ]
    }
   ],
   "source": [
    "if age==1:\n",
    "    print ('the baby can crawl')\n",
    "elif age==2:\n",
    "    print('the baby can stand')\n",
    "elif age==3:\n",
    "    print('the baby can talk')\n",
    "    "
   ]
  },
  {
   "cell_type": "code",
   "execution_count": 26,
   "metadata": {},
   "outputs": [
    {
     "name": "stdout",
     "output_type": "stream",
     "text": [
      "the baby can walk\n"
     ]
    }
   ],
   "source": [
    "if age==1:\n",
    "    print ('the baby can crawl')\n",
    "elif age==2:\n",
    "    print('the baby can stand')\n",
    "elif age==3:\n",
    "    print('the baby can talk')\n",
    "else:\n",
    "    print ('the baby can walk')\n"
   ]
  },
  {
   "cell_type": "code",
   "execution_count": 28,
   "metadata": {},
   "outputs": [],
   "source": [
    "boy_age=15"
   ]
  },
  {
   "cell_type": "code",
   "execution_count": 30,
   "metadata": {},
   "outputs": [
    {
     "name": "stdout",
     "output_type": "stream",
     "text": [
      "the boy goes to higher school\n"
     ]
    }
   ],
   "source": [
    "if boy_age==5:\n",
    "    print('the boy goes to preschool')\n",
    "elif boy_age==7:\n",
    "    print('thy boy goes to school')\n",
    "elif boy_age==15:\n",
    "    print(\"the boy goes to higher school\")"
   ]
  },
  {
   "cell_type": "code",
   "execution_count": 31,
   "metadata": {},
   "outputs": [],
   "source": [
    "boy_age=20"
   ]
  },
  {
   "cell_type": "code",
   "execution_count": 32,
   "metadata": {},
   "outputs": [
    {
     "name": "stdout",
     "output_type": "stream",
     "text": [
      "the boy goes to college\n"
     ]
    }
   ],
   "source": [
    "if boy_age==5:\n",
    "    print('the boy goes to preschool')\n",
    "elif boy_age==7:\n",
    "    print('thy boy goes to school')\n",
    "elif boy_age==15:\n",
    "    print(\"the boy goes to higher school\")\n",
    "else:\n",
    "    print(\"the boy goes to college\")"
   ]
  },
  {
   "cell_type": "code",
   "execution_count": 33,
   "metadata": {},
   "outputs": [],
   "source": [
    "fst_name=('kalesh')"
   ]
  },
  {
   "cell_type": "code",
   "execution_count": 34,
   "metadata": {},
   "outputs": [
    {
     "data": {
      "text/plain": [
       "str"
      ]
     },
     "execution_count": 34,
     "metadata": {},
     "output_type": "execute_result"
    }
   ],
   "source": [
    "type(fst_name)"
   ]
  },
  {
   "cell_type": "code",
   "execution_count": 35,
   "metadata": {},
   "outputs": [],
   "source": [
    "fst_name=('kalesh',)"
   ]
  },
  {
   "cell_type": "code",
   "execution_count": 36,
   "metadata": {},
   "outputs": [
    {
     "data": {
      "text/plain": [
       "tuple"
      ]
     },
     "execution_count": 36,
     "metadata": {},
     "output_type": "execute_result"
    }
   ],
   "source": [
    "type(fst_name)"
   ]
  },
  {
   "cell_type": "code",
   "execution_count": null,
   "metadata": {},
   "outputs": [],
   "source": []
  }
 ],
 "metadata": {
  "kernelspec": {
   "display_name": "Python 3",
   "language": "python",
   "name": "python3"
  },
  "language_info": {
   "codemirror_mode": {
    "name": "ipython",
    "version": 3
   },
   "file_extension": ".py",
   "mimetype": "text/x-python",
   "name": "python",
   "nbconvert_exporter": "python",
   "pygments_lexer": "ipython3",
   "version": "3.8.5"
  }
 },
 "nbformat": 4,
 "nbformat_minor": 4
}
